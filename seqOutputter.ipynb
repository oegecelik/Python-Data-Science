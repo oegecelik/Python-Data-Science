{
 "cells": [
  {
   "cell_type": "code",
   "execution_count": 1,
   "id": "e7cd8b22-4c92-440e-9723-09f88f7f38ca",
   "metadata": {},
   "outputs": [],
   "source": [
    "import pandas as pd"
   ]
  },
  {
   "cell_type": "code",
   "execution_count": 2,
   "id": "74de758c-b964-4964-bb35-61f4f1c20f12",
   "metadata": {},
   "outputs": [],
   "source": [
    "species_name = \"Danio reiro\"\n",
    "rna_type = \"mRNA\"\n",
    "rna_type_for_fasta = \"protein_coding\""
   ]
  },
  {
   "cell_type": "code",
   "execution_count": 3,
   "id": "7f89e734-f2d7-4e7f-a34f-b76383d33e94",
   "metadata": {},
   "outputs": [
    {
     "name": "stderr",
     "output_type": "stream",
     "text": [
      "/tmp/ipykernel_5938/1951409903.py:1: DtypeWarning: Columns (10,11,12) have mixed types. Specify dtype option on import or set low_memory=False.\n",
      "  df = pd.read_csv('Download_data_RP/Download_data_RP.csv', on_bad_lines = 'skip', sep = '\\t' )\n"
     ]
    }
   ],
   "source": [
    "df = pd.read_csv('Download_data_RP/Download_data_RP.csv', on_bad_lines = 'skip', sep = '\\t' )"
   ]
  },
  {
   "cell_type": "code",
   "execution_count": 4,
   "id": "071f9f5e-79e1-41b6-b537-f7278c882fba",
   "metadata": {},
   "outputs": [],
   "source": [
    "filt = (df['Category1'] == rna_type) & (df['Species1'] == species_name) "
   ]
  },
  {
   "cell_type": "code",
   "execution_count": 5,
   "id": "9f81e091-d897-451f-a5e2-df43ce4b198b",
   "metadata": {
    "scrolled": true
   },
   "outputs": [
    {
     "data": {
      "text/plain": [
       "<pandas.core.indexing._LocIndexer at 0x7f9ddb2da160>"
      ]
     },
     "execution_count": 5,
     "metadata": {},
     "output_type": "execute_result"
    }
   ],
   "source": [
    "df_filtered = df.loc[filt]\n",
    "df_filtered.loc"
   ]
  },
  {
   "cell_type": "code",
   "execution_count": 6,
   "id": "c21fd008-c40d-4fda-99ed-a9ee74f2a158",
   "metadata": {},
   "outputs": [
    {
     "name": "stdout",
     "output_type": "stream",
     "text": [
      "Get unique values from multiple columns:\n",
      " []\n"
     ]
    }
   ],
   "source": [
    "    df2 = pd.unique(df_filtered['Interactor1.Symbol'].values.ravel())\n",
    "    print(\"Get unique values from multiple columns:\\n\",df2)"
   ]
  },
  {
   "cell_type": "code",
   "execution_count": 7,
   "id": "28715d5f-37a7-45bd-ac12-96469f016598",
   "metadata": {},
   "outputs": [],
   "source": [
    "from Bio import SeqIO\n"
   ]
  },
  {
   "cell_type": "code",
   "execution_count": 65,
   "id": "4a0f202d-dd45-4df0-8032-3939a1e03afd",
   "metadata": {},
   "outputs": [],
   "source": [
    "def type_assertion(record):\n",
    "    parts = record.description.split('|') \n",
    "    if(len(parts) == 5 and parts[4] == rna_type_for_fasta):\n",
    "        return \"true\"\n",
    "    else:\n",
    "        return \"false\""
   ]
  },
  {
   "cell_type": "code",
   "execution_count": 66,
   "id": "ce95b610-60ac-4dec-ba6d-0664384187c6",
   "metadata": {},
   "outputs": [],
   "source": [
    "def get_accession1(record):\n",
    "    parts = record.description.split('|') \n",
    "    assert len(parts) == 5 and parts[4] == rna_type_for_fasta\n",
    "    return parts[3], parts[1]"
   ]
  },
  {
   "cell_type": "code",
   "execution_count": 67,
   "id": "6e13d617-5884-47d4-934b-120a6b5e0d2b",
   "metadata": {},
   "outputs": [],
   "source": [
    "fasta_dict = {}\n",
    "for record in SeqIO.parse(\"Fastas/mart_export.txt\", \"fasta\"):\n",
    "    if(type_assertion(record) == \"true\"):\n",
    "        gene, code = get_accession1(record)\n",
    "        fasta_dict.update({gene : code})"
   ]
  },
  {
   "cell_type": "code",
   "execution_count": 68,
   "id": "e43e286d-b4a7-4448-b10d-33d1ca45eb32",
   "metadata": {},
   "outputs": [],
   "source": [
    "def get_accession2(record):\n",
    "    parts = record.description.split('|') \n",
    "    assert len(parts) == 5 and parts[4] == rna_type_for_fasta\n",
    "    return parts[1]"
   ]
  },
  {
   "cell_type": "code",
   "execution_count": 69,
   "id": "452a2095-4359-4148-83d3-f1005ebcb06d",
   "metadata": {},
   "outputs": [
    {
     "data": {
      "text/plain": [
       "299"
      ]
     },
     "execution_count": 69,
     "metadata": {},
     "output_type": "execute_result"
    }
   ],
   "source": [
    "record_dict = SeqIO.to_dict(SeqIO.parse(\"Fastas/mart_export.txt\", \"fasta\"), key_function = get_accession2)\n",
    "len(record_dict)"
   ]
  },
  {
   "cell_type": "code",
   "execution_count": 70,
   "id": "16ea0061-d811-4e10-9e66-347af1a37317",
   "metadata": {},
   "outputs": [
    {
     "name": "stdout",
     "output_type": "stream",
     "text": [
      "GGTCCTATAGTGTAGTGGTTATCACTTTCGGTTCTGATCCGAACAACCCCAGTTCGAATCCGGGTGGGACCT\n"
     ]
    }
   ],
   "source": [
    "output_list = []\n",
    "print(record_dict[fasta_dict[df2[0]]].seq)\n"
   ]
  },
  {
   "cell_type": "code",
   "execution_count": 71,
   "id": "e7c00aec-75ab-4b38-8b6d-a19a28459387",
   "metadata": {},
   "outputs": [
    {
     "name": "stdout",
     "output_type": "stream",
     "text": [
      "[['CDC65', Seq('GGTCCTATAGTGTAGTGGTTATCACTTTCGGTTCTGATCCGAACAACCCCAGTT...CCT')], ['EMT1', Seq('GCTTCAGTAGCTCAGTAGGAAGAGCGTCAGTCTCATAATCTGAAGGTCGAGAGT...GCA')], ['SUF1', Seq('GGGCGGTTAGTGTAGTGGTTATCATCCCACCCTTCCAAGGTGGGGACACGGGTT...TCA')], ['SUF11', Seq('GGGCGTGTGGTCTAGTGGTATGATTCTCGCTTTGGGTGCGAGAGGCCCTGGGTT...CCC')], ['SUF2', Seq('GGGCGTGTGGTCTAGAGGTATGATTCTCGCTTAGGGTGCGGGAGGTCCCGGGTT...CCC')], ['SUF5', Seq('GCGCAAGTGGTTCAGTGGTTAGAATTTATGCTTCCCAAGCATGAGGCCCGGGTT...GCA')], ['SUF7', Seq('GGGCGTGTGGTCTAGTGGTATGATTCTCGCTTTGGGTGCGAGAGGCCCTGGGTT...CCC')], ['SUF8', Seq('GGGCGTGTGGTCTAGTGGTATGATTCTCGCTTTGGGTGCGAGAGGCCCTGGGTT...CCC')], ['SUF9', Seq('GGGCGTGTGGTCTAGTGGTATGATTCTCGCTTTGGGTGCGAGAGGCCCTGGGTT...CCC')], ['SUP19', Seq('GGCACTATGGCCGAGTGGTTAAGGCGACAGACTTGAAATCTGTTGGGCTCTGCC...TCG')], ['SUP2', Seq('CTCTCGGTAGCCAAGTTGGTTTAAGGCGCAAGACTGTAAATCTTGAGATCGGGC...AGA')], ['SUP56', Seq('GGTTGTTTGGCCGAGCGGTCTAAGGCGCCTGATTCAAGCTCAGGTATCGTAAGA...CCA')], ['TGA1', Seq('GGGCACATGGCGCAGTTGGTAGCGCGCTTCCCTTGCAAGGAAGAGGTCATCGGT...CCA')], ['TRN1', Seq('GGGCGTGTGGTCTAGTGGTATGATTCTCGCTTTGGGTGCGAGAGGCCCTGGGTT...CCC')]]\n"
     ]
    }
   ],
   "source": [
    "handle = open(\"Fastas/mart_export.txt\")\n",
    "for x in range(0, len(df2), 1):\n",
    "    if df2[x] not in fasta_dict.keys():\n",
    "        continue\n",
    "    output_list.append([df2[x], record_dict[fasta_dict[df2[x]]].seq])\n",
    "print(output_list)\n",
    "handle.close()"
   ]
  },
  {
   "cell_type": "code",
   "execution_count": 72,
   "id": "85222ec4-7350-4718-9759-7f34f19b89f7",
   "metadata": {},
   "outputs": [],
   "source": [
    "# Create a DataFrame from the list\n",
    "out_data_frame = pd.DataFrame(output_list, columns=['Gene Name', 'Sequence'])\n",
    "# Save DataFrame to CSV file\n",
    "out_data_frame.to_csv(\"outputs/\" + species_name + \"_\" + rna_type + '.csv', index=False, encoding='utf-8')"
   ]
  },
  {
   "cell_type": "code",
   "execution_count": null,
   "id": "fce03b07-7db0-4c10-9c70-d963c6c4a1c9",
   "metadata": {},
   "outputs": [],
   "source": []
  },
  {
   "cell_type": "code",
   "execution_count": null,
   "id": "97d54552-42cf-4b9b-8a36-919dcf5f406b",
   "metadata": {},
   "outputs": [],
   "source": []
  },
  {
   "cell_type": "code",
   "execution_count": null,
   "id": "3499e09e-e819-4751-bfec-44fa92876688",
   "metadata": {},
   "outputs": [],
   "source": []
  },
  {
   "cell_type": "code",
   "execution_count": null,
   "id": "4a86d597-1976-413e-866f-a6bb3b319489",
   "metadata": {},
   "outputs": [],
   "source": []
  }
 ],
 "metadata": {
  "kernelspec": {
   "display_name": "Python 3 (ipykernel)",
   "language": "python",
   "name": "python3"
  },
  "language_info": {
   "codemirror_mode": {
    "name": "ipython",
    "version": 3
   },
   "file_extension": ".py",
   "mimetype": "text/x-python",
   "name": "python",
   "nbconvert_exporter": "python",
   "pygments_lexer": "ipython3",
   "version": "3.10.12"
  }
 },
 "nbformat": 4,
 "nbformat_minor": 5
}
